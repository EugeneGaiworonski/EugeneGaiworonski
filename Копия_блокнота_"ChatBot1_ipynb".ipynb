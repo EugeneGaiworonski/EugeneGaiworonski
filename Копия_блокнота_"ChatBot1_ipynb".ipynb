{
  "nbformat": 4,
  "nbformat_minor": 0,
  "metadata": {
    "colab": {
      "name": "Копия блокнота \"ChatBot1.ipynb\"",
      "provenance": [],
      "include_colab_link": true
    },
    "kernelspec": {
      "name": "python3",
      "display_name": "Python 3"
    },
    "language_info": {
      "name": "python"
    }
  },
  "cells": [
    {
      "cell_type": "markdown",
      "metadata": {
        "id": "view-in-github",
        "colab_type": "text"
      },
      "source": [
        "<a href=\"https://colab.research.google.com/github/EugeneGaiworonski/EugeneGaiworonski/blob/main/%D0%9A%D0%BE%D0%BF%D0%B8%D1%8F_%D0%B1%D0%BB%D0%BE%D0%BA%D0%BD%D0%BE%D1%82%D0%B0_%22ChatBot1_ipynb%22.ipynb\" target=\"_parent\"><img src=\"https://colab.research.google.com/assets/colab-badge.svg\" alt=\"Open In Colab\"/></a>"
      ]
    },
    {
      "cell_type": "code",
      "source": [
        "import random\n",
        "import nltk"
      ],
      "metadata": {
        "id": "yPnKkf-DFuWL"
      },
      "execution_count": null,
      "outputs": []
    },
    {
      "cell_type": "code",
      "source": [
        "BOT_CONFIG = {\n",
        "    'intents': {\n",
        "        'hello': {\n",
        "            'examples': ['Приветики', 'Здравствуй!', 'Здарова', 'Привет'],\n",
        "            'responses': ['Хай!!', 'Прив', 'Хэллоу']\n",
        "        },\n",
        "        'bye': {\n",
        "            'examples': ['Пока', 'Сайонара', 'Покедова'],\n",
        "            'responses': ['До свиданья', 'Увидимся', 'Пока-пока']\n",
        "        },\n",
        "        'howdoyoudo': {\n",
        "            'examples': ['Как дела?', 'Как поживаешь?'],\n",
        "            'responses': ['Классно!', 'Я живу в компьютере']\n",
        "        },\n",
        "    }\n",
        "}"
      ],
      "metadata": {
        "id": "phVefd1vEMQ1"
      },
      "execution_count": null,
      "outputs": []
    },
    {
      "cell_type": "code",
      "source": [
        "45 / 23"
      ],
      "metadata": {
        "colab": {
          "base_uri": "https://localhost:8080/"
        },
        "id": "QsrJdgmXSTgs",
        "outputId": "2edadb02-1096-4545-f089-bea2cca4cda7"
      },
      "execution_count": null,
      "outputs": [
        {
          "output_type": "execute_result",
          "data": {
            "text/plain": [
              "1.9565217391304348"
            ]
          },
          "metadata": {},
          "execution_count": 74
        }
      ]
    },
    {
      "cell_type": "code",
      "source": [
        "def clean(text):\n",
        "  cleaned_text = ''\n",
        "  for char in text.lower():\n",
        "    if char in 'абвгдеёжзийклмнопрстуфхцчшщъыьэюя':\n",
        "      cleaned_text = cleaned_text + char\n",
        "  return cleaned_text\n",
        "\n",
        "def get_intent(text):\n",
        "  for intent in BOT_CONFIG['intents'].keys():\n",
        "    for example in BOT_CONFIG['intents'][intent]['examples']:\n",
        "      clean_example = clean(example)\n",
        "      clean_text = clean(text)\n",
        "      if nltk.edit_distance(clean_example, clean_text) / max(len(clean_example), len(clean_text)) < 0.4:\n",
        "        return intent\n",
        "  return 'intent not found'\n",
        "\n",
        "def bot(text):\n",
        "  intent = get_intent(text)\n",
        "  if intent == 'intent not found':\n",
        "    return 'Я ничего не понял :('\n",
        "  else:\n",
        "    return random.choice(BOT_CONFIG['intents'][intent]['responses'])"
      ],
      "metadata": {
        "id": "tWGWvPvgFsqW"
      },
      "execution_count": null,
      "outputs": []
    },
    {
      "cell_type": "code",
      "source": [
        "while True:\n",
        "  text = input()\n",
        "  answer = bot(text)\n",
        "  print(answer)"
      ],
      "metadata": {
        "id": "s0k7mflUMybR"
      },
      "execution_count": null,
      "outputs": []
    },
    {
      "cell_type": "code",
      "source": [
        ""
      ],
      "metadata": {
        "id": "DrVni-8kQO9g"
      },
      "execution_count": null,
      "outputs": []
    }
  ]
}